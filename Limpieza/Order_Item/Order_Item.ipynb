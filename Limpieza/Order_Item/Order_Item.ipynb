{
 "cells": [
  {
   "cell_type": "code",
   "execution_count": 30,
   "metadata": {},
   "outputs": [],
   "source": [
    "import pandas as pd"
   ]
  },
  {
   "cell_type": "code",
   "execution_count": 31,
   "metadata": {},
   "outputs": [],
   "source": [
    "Order_Item = pd.read_csv('Order_Item.csv')"
   ]
  },
  {
   "cell_type": "code",
   "execution_count": 32,
   "metadata": {},
   "outputs": [],
   "source": [
    "Order_Item = Order_Item .drop(\"IEPS_PERCENTAGE\", axis= 1 )\n",
    "Order_Item  = Order_Item .drop('IEPS', axis=1)\n",
    "\n",
    "Order_Item.dropna(subset=['CREATED_AT'], inplace=True)\n",
    "Order_Item['CREATED_AT'] = Order_Item['CREATED_AT'].astype(str)\n",
    "Order_Item['CREATED_AT'] = Order_Item['CREATED_AT'].str.extract(r'(\\d{4}-\\d{2}-\\d{2})')\n",
    "Order_Item['CREATED_AT'] = pd.to_datetime(Order_Item['CREATED_AT'])\n",
    "\n",
    "Order_Item.dropna(subset=['UPDATED_AT'], inplace=True)\n",
    "Order_Item['UPDATED_AT'] = Order_Item['UPDATED_AT'].astype(str)\n",
    "Order_Item['UPDATED_AT'] = Order_Item['UPDATED_AT'].str.extract(r'(\\d{4}-\\d{2}-\\d{2})')\n",
    "Order_Item['UPDATED_AT'] = pd.to_datetime(Order_Item['UPDATED_AT'])\n",
    "\n",
    "Order_Item = Order_Item.drop(\"SUPPLY_ORDER_ID\", axis= 1 )\n",
    "Order_Item = Order_Item.drop(\"CREATED_BY\", axis= 1 )\n",
    "Order_Item = Order_Item.drop(\"UPDATED_BY\", axis= 1 )\n",
    "\n",
    "Order_Item['SKU'] = Order_Item['SKU'].fillna(-1)\n",
    "Order_Item['DELIVERED_QUANTITY'] = Order_Item['DELIVERED_QUANTITY'].fillna(-1)\n",
    "Order_Item['IVA_PERCENTAGE'] = Order_Item['IVA_PERCENTAGE'].fillna(-1)\n",
    "Order_Item['IS_RETURNED'] = Order_Item['IS_RETURNED'].fillna(-1)\n",
    "Order_Item['RETURNED_QUANTITY'] = Order_Item['RETURNED_QUANTITY'].fillna(-1)\n",
    "Order_Item['EXTERNAL_PRICE'] = Order_Item['EXTERNAL_PRICE'].fillna(-1)\n",
    "Order_Item['RETURNED_REASON'] = Order_Item['RETURNED_REASON'].fillna(-1)\n",
    "\n"
   ]
  },
  {
   "cell_type": "code",
   "execution_count": 33,
   "metadata": {},
   "outputs": [],
   "source": [
    "Order_Item.to_csv(\"Order_Item_Limpia.csv\", index=False)\n",
    "\n"
   ]
  }
 ],
 "metadata": {
  "kernelspec": {
   "display_name": "Python 3",
   "language": "python",
   "name": "python3"
  },
  "language_info": {
   "codemirror_mode": {
    "name": "ipython",
    "version": 3
   },
   "file_extension": ".py",
   "mimetype": "text/x-python",
   "name": "python",
   "nbconvert_exporter": "python",
   "pygments_lexer": "ipython3",
   "version": "3.11.5"
  }
 },
 "nbformat": 4,
 "nbformat_minor": 2
}
