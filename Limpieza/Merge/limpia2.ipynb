{
 "cells": [
  {
   "cell_type": "code",
   "execution_count": 9,
   "metadata": {},
   "outputs": [],
   "source": [
    "import pandas as pd\n"
   ]
  },
  {
   "cell_type": "code",
   "execution_count": 10,
   "metadata": {},
   "outputs": [
    {
     "name": "stderr",
     "output_type": "stream",
     "text": [
      "C:\\Users\\prordija\\AppData\\Local\\Temp\\ipykernel_16872\\2320725356.py:2: DtypeWarning: Columns (8,11,12,22) have mixed types. Specify dtype option on import or set low_memory=False.\n",
      "  df_tus_datos = pd.read_csv(\"Merge_Data.csv\")\n"
     ]
    }
   ],
   "source": [
    "\n",
    "# Tu DataFrame original (reemplaza 'df_tus_datos' con el nombre real de tu DataFrame)\n",
    "df_tus_datos = pd.read_csv(\"Merge_Data.csv\")\n"
   ]
  },
  {
   "cell_type": "code",
   "execution_count": 11,
   "metadata": {},
   "outputs": [],
   "source": [
    "\n",
    "# Columnas a eliminar\n",
    "columnas_a_eliminar = [\n",
    "    \"ID_PRODUCT\",\n",
    "    \"BRAND_ID_PRODUCT\",\n",
    "    \"SUPERGROUP_ID_PRODUCT\",\n",
    "    \"CATEGORY_ID_PRODUCT\",\n",
    "    \"CLIENT_ID_ORDER\",\n",
    "    \"SUPPLIED_DATE_ORDER\",\n",
    "    \"IS_RETURNED_ORDER\",\n",
    "    \"REGION_ID_ORDER\",\n",
    "    \"PLAZA_ID_ORDER\",\n",
    "    \"PRODUCT_ID_ORDER_ITEM\",\n",
    "    \"IS_RETURNED_ITEM_ORDER_ITEM\",\n",
    "    \"RETURNED_QUANTITY_ITEM_ORDER_ITEM\",\n",
    "    \"CREATED_AT_ORDER_ITEM\",\n",
    "    \"REGION_ID_CLIENT\",\n",
    "    \"PLAZA_ID_CLIENT\",\n",
    "    \"LATITUDE\",\n",
    "    \"LONGITUDE\",\n",
    "    \"VISIT_DAYS_CLIENT_FRIDAY\",\n",
    "    \"VISIT_DAYS_CLIENT_FRIDAY,THURSDAY\",\n",
    "    \"VISIT_DAYS_CLIENT_MONDAY\",\n",
    "    \"VISIT_DAYS_CLIENT_MONDAY,THURSDAY\",\n",
    "    \"VISIT_DAYS_CLIENT_SATURDAY\",\n",
    "    \"VISIT_DAYS_CLIENT_SATURDAY,TUESDAY\",\n",
    "    \"VISIT_DAYS_CLIENT_THURSDAY\",\n",
    "    \"VISIT_DAYS_CLIENT_THURSDAY,MONDAY\",\n",
    "    \"VISIT_DAYS_CLIENT_THURSDAY,TUESDAY\",\n",
    "    \"VISIT_DAYS_CLIENT_THURSDAY,WEDNESDAY\",\n",
    "    \"VISIT_DAYS_CLIENT_TUESDAY\",\n",
    "    \"VISIT_DAYS_CLIENT_TUESDAY,FRIDAY\",\n",
    "    \"VISIT_DAYS_CLIENT_TUESDAY,WEDNESDAY\",\n",
    "    \"VISIT_DAYS_CLIENT_WEDNESDAY\",\n",
    "    \"VISIT_DAYS_CLIENT_WEDNESDAY,SATURDAY\",\n",
    "    \"VISIT_DAYS_CLIENT_WEDNESDAY,THURSDAY\",\n",
    "    \"Abandoned\",\n",
    "    \"RETURNED_REASON_ORDER\",\n",
    "    \"RETURNED_REASON_ITEM_ORDER_ITEM\"\n",
    "]\n",
    "\n",
    "# Eliminar columnas\n",
    "df_tus_datos = df_tus_datos.drop(columns=columnas_a_eliminar, errors='ignore')\n",
    "\n",
    "\n"
   ]
  },
  {
   "cell_type": "code",
   "execution_count": 12,
   "metadata": {},
   "outputs": [],
   "source": [
    "\n",
    "# Guardar el nuevo DataFrame si es necesario\n",
    "df_tus_datos.to_csv(\"nuevos_datos.csv\", index=False)\n"
   ]
  }
 ],
 "metadata": {
  "kernelspec": {
   "display_name": "Python 3",
   "language": "python",
   "name": "python3"
  },
  "language_info": {
   "codemirror_mode": {
    "name": "ipython",
    "version": 3
   },
   "file_extension": ".py",
   "mimetype": "text/x-python",
   "name": "python",
   "nbconvert_exporter": "python",
   "pygments_lexer": "ipython3",
   "version": "3.11.5"
  }
 },
 "nbformat": 4,
 "nbformat_minor": 2
}
