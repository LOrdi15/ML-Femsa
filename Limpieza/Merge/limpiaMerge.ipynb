{
 "cells": [
  {
   "cell_type": "code",
   "execution_count": 9,
   "metadata": {},
   "outputs": [],
   "source": [
    "import pandas as pd"
   ]
  },
  {
   "cell_type": "code",
   "execution_count": 10,
   "metadata": {},
   "outputs": [
    {
     "name": "stderr",
     "output_type": "stream",
     "text": [
      "C:\\Users\\prordija\\AppData\\Local\\Temp\\ipykernel_8596\\1478509217.py:1: DtypeWarning: Columns (8,11,12,22) have mixed types. Specify dtype option on import or set low_memory=False.\n",
      "  merge = pd.read_csv(\"Merge_Data.csv\")\n"
     ]
    }
   ],
   "source": [
    "merge = pd.read_csv(\"Merge_Data.csv\")\n"
   ]
  },
  {
   "cell_type": "code",
   "execution_count": 11,
   "metadata": {},
   "outputs": [],
   "source": [
    "merge = merge.drop(\"IS_NEW_PRODUCT\", axis= 1)\n",
    "merge = merge.drop(\"ID_CLIENT\", axis= 1)\n",
    "merge = merge.drop(\"IS_RETURNABLE_PRODUCT\", axis= 1)\n",
    "merge = merge.drop(\"IS_RETURNED_ITEM_ORDER_ITEM\", axis= 1)\n",
    "\n",
    "merge[\"IS_RETURNED_ORDER\"] = merge[\"IS_RETURNED_ORDER\"].replace({\"True\":1})\n",
    "merge[\"IS_RETURNED_ITEM_ORDER_ITEM\"] = merge[\"RETURNED_REASON_ORDER\"].replace({-1:0})\n",
    "merge[\"RETURNED_QUANTITY_ITEM_ORDER_ITEM\"] = merge[\"RETURNED_QUANTITY_ITEM_ORDER_ITEM\"].replace({-1:0})\n",
    "merge[\"IS_RETURNED_ITEM_ORDER_ITEM\"] = merge[\"IS_RETURNED_ITEM_ORDER_ITEM\"].replace({True:1, -1: 0})\n",
    "\n",
    "merge = merge.dropna()"
   ]
  },
  {
   "cell_type": "code",
   "execution_count": 12,
   "metadata": {},
   "outputs": [],
   "source": [
    "merge = pd.get_dummies(merge, columns=['RETURNED_REASON_ORDER'])"
   ]
  },
  {
   "cell_type": "code",
   "execution_count": 13,
   "metadata": {},
   "outputs": [],
   "source": [
    "merge = pd.get_dummies(merge, columns=['RETURNED_REASON_ITEM_ORDER_ITEM'])"
   ]
  },
  {
   "cell_type": "code",
   "execution_count": 14,
   "metadata": {},
   "outputs": [],
   "source": [
    "merge = pd.get_dummies(merge, columns=['VISIT_DAYS_CLIENT'])"
   ]
  },
  {
   "cell_type": "code",
   "execution_count": 15,
   "metadata": {},
   "outputs": [],
   "source": [
    "merge.to_csv(\"Merge_Data_Limpio.csv\", index=False)"
   ]
  },
  {
   "cell_type": "markdown",
   "metadata": {},
   "source": [
    "\n",
    "\n",
    "SUPPLIED_DATE_ORDER vacias eliminar\n",
    "\n",
    "IS_RETURNED_ORDER true = 1\n",
    "\n",
    "RETURNED_REASON_ORDER dummy\n",
    "RETURNED_REASON_ITEM_ORDER_ITEM dummy\n",
    "\n",
    "IS_RETURNED_ITEM_ORDER_ITEM -1 = 0 true = 1\n",
    "\n",
    "VISIT_DAYS_CLIENT dummy"
   ]
  },
  {
   "cell_type": "markdown",
   "metadata": {},
   "source": []
  }
 ],
 "metadata": {
  "kernelspec": {
   "display_name": "Python 3",
   "language": "python",
   "name": "python3"
  },
  "language_info": {
   "codemirror_mode": {
    "name": "ipython",
    "version": 3
   },
   "file_extension": ".py",
   "mimetype": "text/x-python",
   "name": "python",
   "nbconvert_exporter": "python",
   "pygments_lexer": "ipython3",
   "version": "3.11.5"
  }
 },
 "nbformat": 4,
 "nbformat_minor": 2
}
