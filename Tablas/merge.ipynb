{
 "cells": [
  {
   "cell_type": "code",
   "execution_count": 43,
   "metadata": {},
   "outputs": [],
   "source": [
    "import pandas as pd"
   ]
  },
  {
   "cell_type": "code",
   "execution_count": 44,
   "metadata": {},
   "outputs": [
    {
     "name": "stderr",
     "output_type": "stream",
     "text": [
      "C:\\Users\\prordija\\AppData\\Local\\Temp\\ipykernel_2076\\859083212.py:1: DtypeWarning: Columns (7,23,24,25,26) have mixed types. Specify dtype option on import or set low_memory=False.\n",
      "  client_df = pd.read_csv('Client.csv')\n",
      "C:\\Users\\prordija\\AppData\\Local\\Temp\\ipykernel_2076\\859083212.py:3: DtypeWarning: Columns (28,29,32,33) have mixed types. Specify dtype option on import or set low_memory=False.\n",
      "  order_df = pd.read_csv('Order.csv')\n"
     ]
    }
   ],
   "source": [
    "client_df = pd.read_csv('Client.csv')\n",
    "order_item_df = pd.read_csv('Order_Item.csv')\n",
    "order_df = pd.read_csv('Order.csv')\n",
    "product_df = pd.read_csv('Product.csv')\n"
   ]
  },
  {
   "cell_type": "code",
   "execution_count": 45,
   "metadata": {},
   "outputs": [],
   "source": [
    "# Fusionar Client.csv y Order_Item.csv en base a la columna 'ID' y 'SUPPLY_ORDER_ID' respectivamente\n",
    "merged_df1 = pd.merge(client_df, order_item_df, left_on='ID', right_on='SUPPLY_ORDER_ID', how='inner')\n"
   ]
  },
  {
   "cell_type": "code",
   "execution_count": 46,
   "metadata": {},
   "outputs": [],
   "source": [
    "merged_df2 = pd.merge(order_df,product_df, left_on = \"ID\", right_on=\"ID\",how=\"inner\")"
   ]
  },
  {
   "cell_type": "code",
   "execution_count": 47,
   "metadata": {},
   "outputs": [
    {
     "name": "stdout",
     "output_type": "stream",
     "text": [
      "Columnas de merged_df1: Index(['ID_x', 'NUTENTA_ID', 'CREATED_BY_x', 'UPDATED_BY_x', 'CLIENT_NUMBER',\n",
      "       'NAME', 'CONTACT_NAME', 'PHONE', 'EMAIL', 'LATITUDE', 'LONGITUDE',\n",
      "       'REGION_ID', 'PLAZA_ID', 'CELLULE_ID', 'ROUTE_ID', 'SEGMENT_ID',\n",
      "       'CONCESSION', 'CONCESSION_TIER', 'APPLICATION_STATUS',\n",
      "       'REJECTED_REASON', 'ACTIVE', 'VISIT_DAYS', 'BURO', 'STORE_SIZE',\n",
      "       'ALCOHOL_ALLOWED', 'FRIDGE_NUMBER', 'STORE_URL', 'ID_y',\n",
      "       'SUPPLY_ORDER_ID', 'PRODUCT_ID', 'QUANTITY', 'SUPPLIED_QUANTITY',\n",
      "       'DELIVERED_QUANTITY', 'IVA_PERCENTAGE', 'IEPS_PERCENTAGE', 'UNIT_PRICE',\n",
      "       'UNIT_WHOLE_SALE_PRICE', 'SUBTOTAL', 'IVA', 'IEPS', 'TOTAL',\n",
      "       'IS_RETURNED', 'RETURNED_QUANTITY', 'RETURNED_REASON', 'EXTERNAL_PRICE',\n",
      "       'SKU', 'CREATED_AT', 'UPDATED_AT', 'CREATED_BY_y', 'UPDATED_BY_y'],\n",
      "      dtype='object')\n"
     ]
    }
   ],
   "source": [
    "print(\"Columnas de merged_df1:\", merged_df1.columns)\n"
   ]
  },
  {
   "cell_type": "code",
   "execution_count": 48,
   "metadata": {},
   "outputs": [
    {
     "name": "stdout",
     "output_type": "stream",
     "text": [
      "Columnas de 2: Index(['ID', 'CLIENT_ID', 'ESTIMATED_DELIVERY_DATE', 'SUPPLIED_BY_ID',\n",
      "       'SUPPLIED_DATE', 'DELIVERED_BY_ID', 'ROUTE_ID', 'DELIVERED_DATE',\n",
      "       'SUPPLY_ORDER_STATUS', 'FOR_SUPPLY', 'SUBTOTAL', 'IVA', 'IEPS', 'TOTAL',\n",
      "       'PRICES_QUANTITY', 'SUBTOTAL_WITH_PROMOTION', 'IVA_WITH_PROMOTION',\n",
      "       'IEPS_WITH_PROMOTION', 'TOTAL_WITH_PROMOTION', 'PERCENT_PROMOTION',\n",
      "       'IS_RETURNED', 'RETURNED_REASON', 'FILE_x', 'CARD_PAYMENT',\n",
      "       'CASH_PAYMENT', 'EXTERNAL_ORDER_NUM', 'EXTERNAL_CODE_PAYMENT_METHOD',\n",
      "       'EXTERNAL_ORDER_DATE', 'EXTERNAL_PAYMENT_CONDITION_CODE', 'OFF_SITE',\n",
      "       'SUPPLY_ORDER_OFF_SITE_ID', 'ERP_ID', 'IS_PAYMENT',\n",
      "       'VISIT_REQUEST_PAYMENT', 'DATE_CHANGE_COUNTER', 'CREATED_AT_x',\n",
      "       'UPDATED_AT_x', 'CREATED_BY_x', 'UPDATED_BY_x', 'REGION_ID', 'PLAZA_ID',\n",
      "       'CELLULE_ID', 'CREDIT_USE_ID', 'Unnamed: 43', 'NAME', 'SHORT_NAME',\n",
      "       'SKU', 'BARCODE', 'QUANTITY', 'BRAND_ID', 'PRESENTATION_ID', 'UNIT_ID',\n",
      "       'SALE_TYPE', 'SUPERGROUP_ID', 'CATEGORY_ID', 'FAMILY_ID', 'SAT_KEY',\n",
      "       'MEDIA_ID', 'ACTIVE', 'NUTENTA', 'RECOMMENDED', 'SHOW_FIRST',\n",
      "       'CREATED_BY_y', 'UPDATED_BY_y', 'CREATED_AT_y', 'UPDATED_AT_y',\n",
      "       'FILE_y', 'IS_NEW', 'IS_RETURNABLE'],\n",
      "      dtype='object')\n"
     ]
    }
   ],
   "source": [
    "print(\"Columnas de 2:\", merged_df2.columns)\n"
   ]
  },
  {
   "cell_type": "code",
   "execution_count": 49,
   "metadata": {},
   "outputs": [],
   "source": [
    "merged_final = pd.merge(merged_df1,merged_df2,left_on=\"ID_x\",right_on=\"ID\",how=\"inner\" )"
   ]
  },
  {
   "cell_type": "code",
   "execution_count": 50,
   "metadata": {},
   "outputs": [],
   "source": [
    "\n",
    "# Guardar el DataFrame fusionado en un nuevo archivo CSV\n",
    "merged_final.to_csv('archivo_fusionado.csv', index=False)"
   ]
  }
 ],
 "metadata": {
  "kernelspec": {
   "display_name": "Python 3",
   "language": "python",
   "name": "python3"
  },
  "language_info": {
   "codemirror_mode": {
    "name": "ipython",
    "version": 3
   },
   "file_extension": ".py",
   "mimetype": "text/x-python",
   "name": "python",
   "nbconvert_exporter": "python",
   "pygments_lexer": "ipython3",
   "version": "3.11.5"
  }
 },
 "nbformat": 4,
 "nbformat_minor": 2
}
